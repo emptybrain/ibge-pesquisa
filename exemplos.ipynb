{
 "cells": [
  {
   "cell_type": "markdown",
   "metadata": {},
   "source": [
    "Para retornar todos os dados da api de pesquisa crie uma instancia e utilize o método api_data()"
   ]
  },
  {
   "cell_type": "code",
   "execution_count": null,
   "metadata": {},
   "outputs": [],
   "source": [
    "from pesquisa import *\n",
    "# Exemplo\n",
    "ibge_pesquisa = SearchApi()\n",
    "print(ibge_pesquisa.api_data())"
   ]
  },
  {
   "cell_type": "markdown",
   "metadata": {},
   "source": [
    "Podemos retornar os dados separados usando os métodos\n",
    "get_id() > para retornar todos os id de pesquisas da api\n",
    "get_nomes() > para retornar os nomes de pesquisas\n",
    "get_descricao() > para retornar todas as descrições referente as pesquisas\n",
    "get_contexto() > para retornar os cotexto de pesquisa\n",
    "get_periodos() > para retornar todos os periodos de pesquisa"
   ]
  },
  {
   "cell_type": "code",
   "execution_count": 1,
   "metadata": {},
   "outputs": [
    {
     "name": "stdout",
     "output_type": "stream",
     "text": [
      "['MUNIC - Perfil dos Municípios Brasileiros', 'SNIG - Pesquisa Nacional de Informação de Gênero', 'Censo escolar - sinopse', 'Produção Agrícola - Lavoura Temporária', 'Produção Agrícola - Lavoura Permanente', 'Extração vegetal e Silvicultura', 'Morbidade', 'Pecuária', 'Cadastro Central de Empresas', 'Registro civil', 'Finanças públicas', 'Frota de veículos', 'Censo', 'Censo Agropecuário', 'Instituições financeiras', 'Pesquisa Nacional de Saneamento Básico', 'Produção agrícola - Cereais, leguminosas e oleaginosas', 'Serviços de saúde', 'Sinopse municipal', 'Pesquisa de serviços de hospedagem', 'Fundações privadas e associações sem fins lucrativos', 'Mapa de pobreza e desigualdade', 'Índice de Desenvolvimento Humano', 'Produto Interno Bruto dos Municípios', 'Taxa de mortalidade infantil', 'Índice de Desenvolvimento da Educação Básica', 'Notificações de dengue registradas', 'Censo - Séries históricas', 'PNAD - Pesquisa Nacional por Amostra de Domicílios', 'Síntese de Indicadores Sociais', 'POF - Pesquisa de Orçamentos Familiares', 'Pesquisa Nacional de Saúde', 'Sinopse estadual', 'Pesquisa Anual da Indústria da Construção', 'Pesquisa Anual de Comércio', 'Pesquisa Industrial Anual - Empresa', 'Pesquisa Anual de Serviços', 'Projeção da população', 'Migrações', 'Tábuas abreviadas de mortalidade por sexo e idade', 'Indicadores sociodemográficos e de saúde no Brasil', 'Pesquisa Nacional de Saúde do Escolar', 'Relações entre as alterações históricas na dinâmica demográfica brasileira e impactos decorrentes do processo de envelhecimento da população', 'Panorama municipal', 'Sinopse Brasil', 'Sistema de Contas Regionais', 'Pesquisa Industrial Anual - Produto', 'Estatísticas de empreendedorismo', 'Demografia das empresas', 'Pesquisa de inovação', 'Panorama Brasil', 'Entidades de assistência social privadas sem fins lucrativos', 'PNADC - Pesquisa Nacional por Amostra de Domicílios Contínua', 'Países', 'ESTADIC - Perfil dos Estados Brasileiros', 'Estatísticas de Gênero: indicadores sociais das mulheres no Brasil', 'Contas Econômicas Ambientais da Água', 'MUNIC - Suplemento Finanças Públicas', 'ESTADIC - Suplemento Esporte', 'MUNIC - Suplemento Esporte', 'MUNIC - Suplemento Meio Ambiente', 'MUNIC - Suplemento Assistência Social', 'ESTADIC - Suplemento Cultura', 'ESTADIC - Suplemento Inclusão Produtiva', 'ESTADIC - Suplemento Assistência Social', 'Estatísticas de Finanças Públicas e Conta Intermediária de Governo', 'MUNIC - Suplemento Inclusão Produtiva', 'MUNIC - Suplemento Cultura', 'Retroprojeção da população', 'MUNIC - Suplemento de Saneamento Básico', 'Demografia das empresas e estatísticas de empreendedorismo', 'Sistema de Contas Nacionais', 'Países 2018', 'Desigualdades Sociais por Cor ou Raça no Brasil', 'Sistema de Informações e Indicadores Culturais', 'Conta-Satélite de Saúde', 'PNAD COVID-19', 'PNAD COVID-19 Mensal', 'Pesquisa Pulso Empresa', 'Produtos agropecuários', 'Contas econômicas ambientais de energia: produtos da biomassa Brasil']\n"
     ]
    }
   ],
   "source": [
    "from pesquisa import *\n",
    "\n",
    "# Exemplo\n",
    "ibge_pesquisa = SearchApi()\n",
    "nome = ibge_pesquisa.get_nomes()\n",
    "print(nome) "
   ]
  },
  {
   "cell_type": "markdown",
   "metadata": {},
   "source": [
    "Para fazer uma consulta a uma pesquisa especifica utilizando o id faca o import de pesquisa_por_id e crie uma instacia da classe SearchById"
   ]
  },
  {
   "cell_type": "code",
   "execution_count": null,
   "metadata": {},
   "outputs": [],
   "source": [
    "from pesquisa_por_id import *"
   ]
  },
  {
   "cell_type": "markdown",
   "metadata": {},
   "source": [
    "usando o método api_data() ira retornar os dados da pesquisa de id 1 por padrao "
   ]
  },
  {
   "cell_type": "code",
   "execution_count": null,
   "metadata": {},
   "outputs": [],
   "source": [
    "from pesquisa_por_id import *\n",
    "# Tem o valor padrao recebe o id 1 e podera ser trocado com int ou \"strig\"\n",
    "# Para concatenar use o pipe'|' dentro de uma string exemplo \"1|53\"\n",
    "ibge_pesquisa_por_id = SearchById()\n",
    "print(ibge_pesquisa_por_id.api_data())\n"
   ]
  },
  {
   "cell_type": "markdown",
   "metadata": {},
   "source": [
    "Tambem podemos retornar os dados separados usando os métodos\n",
    "get_id() > retorna o valor de id da pesquisa\n",
    "get_nome() > para retornar o nome da pesquisa\n",
    "get_descricao() > para retornar a descrições referente a pesquisa\n",
    "get_contexto() > para retornar os cotexto da pesquisa\n"
   ]
  },
  {
   "cell_type": "code",
   "execution_count": 5,
   "metadata": {},
   "outputs": [
    {
     "name": "stdout",
     "output_type": "stream",
     "text": [
      "MUNIC - Perfil dos Municípios Brasileiros\n"
     ]
    }
   ],
   "source": [
    "from pesquisa_por_id import *\n",
    "# Examplo\n",
    "ibge_pesquisa_por_id = SearchById()\n",
    "print(ibge_pesquisa_por_id.get_nome())"
   ]
  },
  {
   "cell_type": "markdown",
   "metadata": {},
   "source": [
    "Para retornar os periodos da pesquisa utilize o método get_data_periodos()\n",
    "ira retornar todos os periodos da pesquisa especificada por id"
   ]
  },
  {
   "cell_type": "code",
   "execution_count": 6,
   "metadata": {},
   "outputs": [
    {
     "name": "stdout",
     "output_type": "stream",
     "text": [
      "[{'fonte': ['IBGE, Pesquisa de Informações Básicas Municipais 2001'], 'nota': [], 'periodo': '2001', 'versao': 10, 'publicacao': '08/01/2016 12:13:06'}, {'fonte': ['IBGE, Pesquisa de Informações Básicas Municipais 2002'], 'nota': [], 'periodo': '2002', 'versao': 9, 'publicacao': '08/01/2016 12:13:06'}, {'fonte': ['IBGE, Pesquisa de Informações Básicas Municipais 2004'], 'nota': [], 'periodo': '2004', 'versao': 8, 'publicacao': '08/01/2016 12:13:06'}, {'fonte': ['IBGE, Pesquisa de Informações Básicas Municipais 2005'], 'nota': [], 'periodo': '2005', 'versao': 7, 'publicacao': '08/01/2016 12:13:06'}, {'fonte': ['IBGE, Pesquisa de Informações Básicas Municipais 2006'], 'nota': [], 'periodo': '2006', 'versao': 6, 'publicacao': '08/01/2016 12:13:06'}, {'fonte': ['IBGE, Pesquisa de Informações Básicas Municipais 2008'], 'nota': [], 'periodo': '2008', 'versao': 5, 'publicacao': '08/01/2016 12:13:06'}, {'fonte': ['IBGE, Pesquisa de Informações Básicas Municipais 2009'], 'nota': [], 'periodo': '2009', 'versao': 4, 'publicacao': '08/01/2016 12:13:06'}, {'fonte': ['IBGE, Pesquisa de Informações Básicas Municipais 2011'], 'nota': [], 'periodo': '2011', 'versao': 3, 'publicacao': '08/01/2016 12:13:06'}, {'fonte': ['IBGE, Pesquisa de Informações Básicas Municipais 2012'], 'nota': [], 'periodo': '2012', 'versao': 2, 'publicacao': '08/01/2016 12:13:06'}, {'fonte': ['IBGE, Pesquisa de Informações Básicas Municipais 2013'], 'nota': [], 'periodo': '2013', 'versao': 1, 'publicacao': '08/01/2016 12:13:06'}, {'fonte': ['IBGE, Pesquisa de Informações Básicas Municipais 2014'], 'nota': [], 'periodo': '2014', 'versao': 12, 'publicacao': '20/08/2015 11:00:12'}, {'fonte': ['IBGE, Pesquisa de Informações Básicas Municipais 2015'], 'nota': [], 'periodo': '2015', 'versao': 25, 'publicacao': '16/03/2016 13:45:49'}, {'fonte': ['IBGE, Pesquisa de Informações Básicas Municipais 2017'], 'nota': [], 'periodo': '2017', 'versao': 1103, 'publicacao': '05/07/2018 10:00:00'}, {'fonte': ['IBGE, Pesquisa de Informações Básicas Municipais - 2018'], 'nota': [], 'periodo': '2018', 'versao': 1112, 'publicacao': '25/09/2019 10:00:00'}, {'fonte': ['IBGE, Pesquisa de Informações Básicas Municipais 2019'], 'nota': [], 'periodo': '2019', 'versao': 1126, 'publicacao': '02/12/2020 10:00:00'}, {'fonte': ['IBGE, Pesquisa de Informações Básicas Municipais - 2020'], 'nota': [], 'periodo': '2020', 'versao': 1130, 'publicacao': '10/11/2021 10:00:00'}]\n"
     ]
    }
   ],
   "source": [
    "from pesquisa_por_id import *\n",
    "# Exemplo\n",
    "ibge_pesquisa_por_id = SearchById()\n",
    "print(ibge_pesquisa_por_id.get_data_periodos())"
   ]
  },
  {
   "cell_type": "markdown",
   "metadata": {},
   "source": [
    "Podemos retornar os dados dos periodos separados utilize os métodos.\n",
    "get_period_fonte() > para retornar as fonte de pesquisa\n",
    "get_period_nota() > para retornar as nota referente a pesquisa\n",
    "get_period_periodo() > para retornar os periodos separado\n",
    "get_period_publicacao() > para retornar datas de publicacao\n",
    "get_period_versao() > para retornar a versão"
   ]
  },
  {
   "cell_type": "code",
   "execution_count": 7,
   "metadata": {},
   "outputs": [
    {
     "name": "stdout",
     "output_type": "stream",
     "text": [
      "['2001', '2002', '2004', '2005', '2006', '2008', '2009', '2011', '2012', '2013', '2014', '2015', '2017', '2018', '2019', '2020']\n"
     ]
    }
   ],
   "source": [
    "from pesquisa_por_id import *\n",
    "# Exemplo\n",
    "ibge_pesquisa_por_id = SearchById()\n",
    "print(ibge_pesquisa_por_id.get_period_periodo())"
   ]
  }
 ],
 "metadata": {
  "interpreter": {
   "hash": "e7370f93d1d0cde622a1f8e1c04877d8463912d04d973331ad4851f04de6915a"
  },
  "kernelspec": {
   "display_name": "Python 3.10.4 64-bit",
   "language": "python",
   "name": "python3"
  },
  "language_info": {
   "codemirror_mode": {
    "name": "ipython",
    "version": 3
   },
   "file_extension": ".py",
   "mimetype": "text/x-python",
   "name": "python",
   "nbconvert_exporter": "python",
   "pygments_lexer": "ipython3",
   "version": "3.10.4"
  },
  "orig_nbformat": 4
 },
 "nbformat": 4,
 "nbformat_minor": 2
}
